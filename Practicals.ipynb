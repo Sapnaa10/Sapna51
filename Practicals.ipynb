{
  "nbformat": 4,
  "nbformat_minor": 0,
  "metadata": {
    "colab": {
      "provenance": [],
      "authorship_tag": "ABX9TyOxRL4SPTPjZGEzeM6AWqoM",
      "include_colab_link": true
    },
    "kernelspec": {
      "name": "python3",
      "display_name": "Python 3"
    },
    "language_info": {
      "name": "python"
    }
  },
  "cells": [
    {
      "cell_type": "markdown",
      "metadata": {
        "id": "view-in-github",
        "colab_type": "text"
      },
      "source": [
        "<a href=\"https://colab.research.google.com/github/Sapnaa10/Sapna51/blob/main/Practicals.ipynb\" target=\"_parent\"><img src=\"https://colab.research.google.com/assets/colab-badge.svg\" alt=\"Open In Colab\"/></a>"
      ]
    },
    {
      "cell_type": "code",
      "execution_count": null,
      "metadata": {
        "colab": {
          "base_uri": "https://localhost:8080/"
        },
        "id": "MuBIRbh--4ry",
        "outputId": "494b66c1-57f8-493b-dc76-c9f93445a036"
      },
      "outputs": [
        {
          "output_type": "stream",
          "name": "stdout",
          "text": [
            "Enter your first name: Sapna\n",
            "Enter your middle name: Arjun\n",
            "Enter your last name: Sharma\n",
            "Full Name: Sapna Arjun Sharma\n",
            "Enter your email: Sapnasharma200\n",
            "Email is invalid\n",
            "Enter your date of birth (DD/MM/YYYY): 10/06/2005\n",
            "Generated Password: Sapn1006\n",
            "Enter your password: Sapn1006\n",
            "Password is valid\n"
          ]
        }
      ],
      "source": [
        "first_name = input(\"Enter your first name: \")\n",
        "middle_name = input(\"Enter your middle name: \")\n",
        "last_name = input(\"Enter your last name: \")\n",
        "\n",
        "full_name = f\"{first_name} {middle_name} {last_name}\"\n",
        "print(\"Full Name:\", full_name)\n",
        "\n",
        "email = input(\"Enter your email: \")\n",
        "\n",
        "if email.endswith((\".com\", \".in\", \".org\", \".edu\")):\n",
        "    print(\"Email is valid\")\n",
        "else:\n",
        "    print(\"Email is invalid\")\n",
        "\n",
        "date_of_birth = input(\"Enter your date of birth (DD/MM/YYYY): \")\n",
        "day, month, year = date_of_birth.split(\"/\")\n",
        "\n",
        "password = f\"{first_name[:4]}{day}{month}\"\n",
        "print(\"Generated Password:\", password)\n",
        "\n",
        "confirm_password = input(\"Enter your password: \")\n",
        "if confirm_password == password:\n",
        "    print(\"Password is valid\")\n",
        "else:\n",
        "    print(\"Password is invalid\")"
      ]
    }
  ]
}