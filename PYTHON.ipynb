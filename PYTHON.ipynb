{
  "nbformat": 4,
  "nbformat_minor": 0,
  "metadata": {
    "colab": {
      "provenance": [],
      "authorship_tag": "ABX9TyNy2obgdx2uPlABRG2Hm4zD",
      "include_colab_link": true
    },
    "kernelspec": {
      "name": "python3",
      "display_name": "Python 3"
    },
    "language_info": {
      "name": "python"
    }
  },
  "cells": [
    {
      "cell_type": "markdown",
      "metadata": {
        "id": "view-in-github",
        "colab_type": "text"
      },
      "source": [
        "<a href=\"https://colab.research.google.com/github/Sapnaa10/Sapna51/blob/main/PYTHON.ipynb\" target=\"_parent\"><img src=\"https://colab.research.google.com/assets/colab-badge.svg\" alt=\"Open In Colab\"/></a>"
      ]
    },
    {
      "cell_type": "code",
      "execution_count": null,
      "metadata": {
        "colab": {
          "base_uri": "https://localhost:8080/"
        },
        "id": "hCN6cUWfVne3",
        "outputId": "5658afdc-b299-4386-d91d-e0171619bb87"
      },
      "outputs": [
        {
          "output_type": "stream",
          "name": "stdout",
          "text": [
            "Enter your age44\n",
            "Eligible for full-time jobs\n"
          ]
        }
      ],
      "source": [
        "\n",
        "age = int(input(\"Enter your age\"))\n",
        "if 16 <= age < 18:\n",
        "   print(\"Eligible for part-time jobs\")\n",
        "elif 18 <= age <= 65:\n",
        "   print(\"Eligible for full-time jobs\")\n",
        "else:\n",
        "   print(\"Not Eligible for any job yet\")"
      ]
    },
    {
      "cell_type": "code",
      "source": [
        "\n"
      ],
      "metadata": {
        "id": "tMy7Yr5d5Z0N"
      },
      "execution_count": null,
      "outputs": []
    },
    {
      "cell_type": "code",
      "source": [
        "age=18\n",
        "if(age>=18):\n",
        "  print(\"eligible\");\n",
        "else:\n",
        "  print(\"not eligible\");\n",
        "  print(\"apply later\");"
      ],
      "metadata": {
        "colab": {
          "base_uri": "https://localhost:8080/"
        },
        "id": "XcRoozyk6Ceh",
        "outputId": "142a0ee8-4155-444b-f3c3-20dde5b6b511"
      },
      "execution_count": null,
      "outputs": [
        {
          "output_type": "stream",
          "name": "stdout",
          "text": [
            "eligible\n"
          ]
        }
      ]
    },
    {
      "cell_type": "code",
      "source": [
        "a=int(input(\"enter 1st no\"));\n",
        "b=int(input(\"enter 2ndno\"));\n",
        "if(a>b):\n",
        "  print(\"a is greater\");\n",
        "elif(a<b):\n",
        "  print(\"b is greater\");\n",
        "else:\n",
        "  print(\"both are equal\");"
      ],
      "metadata": {
        "colab": {
          "base_uri": "https://localhost:8080/"
        },
        "id": "cQnqmet17NpI",
        "outputId": "9c49593d-1728-4edb-f676-b02dc0660512"
      },
      "execution_count": null,
      "outputs": [
        {
          "output_type": "stream",
          "name": "stdout",
          "text": [
            "enter 1st no66\n",
            "enter 2ndno77\n",
            "b is greater\n"
          ]
        }
      ]
    },
    {
      "cell_type": "code",
      "source": [
        "s1=int(input(\"enter s1\"))\n",
        "s2=int(input(\"enter s2\"))\n",
        "s3=int(input(\"enter s3\"))\n",
        "s4=int(input(\"enter s4\"))\n",
        "s5=int(input(\"enter s5\"))\n",
        "per=(s1+s2+s3+s4+s5)/5\n",
        "print(per,\"%\")\n",
        "if per<35:\n",
        "  print(\"fail\");\n",
        "elif per>=35 and per<40:\n",
        "  print(\"pass class\");\n",
        "elif per>=40 and per<60:\n",
        "  print (\"second class\");\n",
        "elif per>=60 and 9per<75:\n",
        "  print (\"first class\");\n",
        "else:\n",
        "  print(\"distinction\");"
      ],
      "metadata": {
        "colab": {
          "base_uri": "https://localhost:8080/"
        },
        "id": "dYO9Gr2m8D-0",
        "outputId": "42d16b22-0eed-4873-ed9c-8e22e2dbdb0e"
      },
      "execution_count": null,
      "outputs": [
        {
          "output_type": "stream",
          "name": "stdout",
          "text": [
            "enter s188\n",
            "enter s299\n",
            "enter s377\n",
            "enter s498\n",
            "enter s589\n",
            "90.2 %\n",
            "distinction\n"
          ]
        }
      ]
    },
    {
      "cell_type": "code",
      "source": [
        "a=input(\"enter your choice,whether you want breakfast,lunch or dinner=\")\n",
        "if a==\"breakfast\":\n",
        " choice=input(\"enter your choice,whether you want western dish or north-indian dish=\")\n",
        " if choice==\"western\":\n",
        "    wd=input(\"you have 2 choice for western-pancakes or sandwich..enter your choice=\")\n",
        "    if wd==\"pancakes\":\n",
        "        print(\"you have ordered pancakes for breakfast\")\n",
        "    elif wd==\"sandwich\":\n",
        "        print(\"you have ordered sandwich for breakfast\")\n",
        "    else:\n",
        "        print(\"no other dish available\")\n",
        " if choice==\"north-indian\":\n",
        "     ni=input(\"you have 2 choice for north-indian dish-poha or upma...enter your choice=\")\n",
        "     if ni==\"poha\":\n",
        "         print(\"you have ordered poha for breakfast\")\n",
        "     elif ni==\"upma\":\n",
        "         print(\"you have ordered poha for breakfast\")\n",
        "     else:\n",
        "         print('no other dish available')\n",
        "if a==\"lunch\":\n",
        "    choice=input(\"enter your choice whether you want south-indian dish or north-indian dish=\")\n",
        "    if choice==\"south-indian\":\n",
        "        si=input(\"you have 2 choice for south-indian dish-mango rasam or banana leaf plate..enter your choice= \")\n",
        "        if si==\"mango rasam\":\n",
        "            print(\"you have ordered mango rasam for lunch\")\n",
        "        elif si==\"banana leaf plate\":\n",
        "            print(\"you have ordered banana leaf plate for lunch\")\n",
        "        else:\n",
        "            print(\"no other dish available for now\")\n",
        "    if choice==\"north-indian\":\n",
        "        ni=input(\"you have 2 choice for north-indian dish-rajma rice or dal rice...enter your choice=\")\n",
        "        if ni==\"rajma rice\":\n",
        "            print(\"you have ordered rajma rice\")\n",
        "        elif ni==\"dal rice\":\n",
        "            print(\"you have ordered dal rice\")\n",
        "        else:\n",
        "            print(\"no other food available for now\")\n",
        "if a==\"dinner\":\n",
        "    choice=input(\"enter your choice whether you want south-indian dish or north-indian dish=\")\n",
        "    if choice==\"south-indian\":\n",
        "        si=input(\"you have 2 choice for south-indian dish-korri gassi or bisi bele bhaat...enter your choice= \")\n",
        "        if si==\"korri gassi\":\n",
        "            print(\"you have ordered\")\n",
        "        elif si==\"gassi bisi bele\":\n",
        "            print(\"you have ordered gassi bisi bele\")\n",
        "        else:\n",
        "            print(\"no other food available for now\")\n",
        "    if choice==\"north-indian\":\n",
        "        ni=input(\"you have 2 choice for north-indian dish-kadai paneer with naan or paneer tikka with pulaav...enter your choice=\")\n",
        "        if ni==\"kadai paneer with naan\":\n",
        "            print(\"you have ordered kadai paneer with naan\")\n",
        "        elif ni==\"paneer tikka with pulaav\":\n",
        "            print(\"you have ordered paneer tikka with pulaav\")\n",
        "        else:\n",
        "            print(\"no other food available for now\")"
      ],
      "metadata": {
        "colab": {
          "base_uri": "https://localhost:8080/"
        },
        "id": "BNJCKD6U_KUc",
        "outputId": "166c60f3-8a22-49a7-cb63-0505a1b06f69"
      },
      "execution_count": null,
      "outputs": [
        {
          "name": "stdout",
          "output_type": "stream",
          "text": [
            "enter your choice,whether you want breakfast,lunch or dinner=breakfast\n",
            "enter your choice,whether you want western dish or north-indian dish=north-indian dish\n"
          ]
        }
      ]
    },
    {
      "cell_type": "code",
      "source": [
        "for i in range(0,101,5):\n",
        "  print(i)"
      ],
      "metadata": {
        "colab": {
          "base_uri": "https://localhost:8080/"
        },
        "id": "uVGubSdT9b__",
        "outputId": "d936af0c-d4ae-43d1-908c-da9967998a5f"
      },
      "execution_count": null,
      "outputs": [
        {
          "output_type": "stream",
          "name": "stdout",
          "text": [
            "0\n",
            "5\n",
            "10\n",
            "15\n",
            "20\n",
            "25\n",
            "30\n",
            "35\n",
            "40\n",
            "45\n",
            "50\n",
            "55\n",
            "60\n",
            "65\n",
            "70\n",
            "75\n",
            "80\n",
            "85\n",
            "90\n",
            "95\n",
            "100\n"
          ]
        }
      ]
    },
    {
      "cell_type": "code",
      "source": [
        "for i in range(0,11):\n",
        "  print(i)\n",
        "  i=i+1"
      ],
      "metadata": {
        "colab": {
          "base_uri": "https://localhost:8080/"
        },
        "id": "8jrlpqrTH6DF",
        "outputId": "b712e64c-a560-48f1-8c41-4dc6b1d0c920"
      },
      "execution_count": null,
      "outputs": [
        {
          "output_type": "stream",
          "name": "stdout",
          "text": [
            "0\n",
            "1\n",
            "2\n",
            "3\n",
            "4\n",
            "5\n",
            "6\n",
            "7\n",
            "8\n",
            "9\n",
            "10\n"
          ]
        }
      ]
    },
    {
      "cell_type": "code",
      "source": [
        "city=[\"A\",\"B\",\"C\"]\n",
        "for i in city:\n",
        "  print(\"I love\",i)"
      ],
      "metadata": {
        "colab": {
          "base_uri": "https://localhost:8080/"
        },
        "id": "9KwVn-kyIiDl",
        "outputId": "511666c1-8880-4066-d224-325310ca46ee"
      },
      "execution_count": null,
      "outputs": [
        {
          "output_type": "stream",
          "name": "stdout",
          "text": [
            "I love A\n",
            "I love B\n",
            "I love C\n"
          ]
        }
      ]
    },
    {
      "cell_type": "code",
      "source": [
        "a=(\"Maldives\",\"dubai\")\n",
        "for i in a:\n",
        "  print(\"I love\",i)"
      ],
      "metadata": {
        "colab": {
          "base_uri": "https://localhost:8080/"
        },
        "id": "mgrYsk80JG3_",
        "outputId": "1f86e356-0e80-418c-ae36-359d488129dc"
      },
      "execution_count": null,
      "outputs": [
        {
          "output_type": "stream",
          "name": "stdout",
          "text": [
            "I love Maldives\n",
            "I love dubai\n"
          ]
        }
      ]
    },
    {
      "cell_type": "code",
      "source": [
        "for i in range (10):\n",
        "  print(i)\n",
        "else:\n",
        "  print(\"for loop ended\")"
      ],
      "metadata": {
        "colab": {
          "base_uri": "https://localhost:8080/"
        },
        "id": "FC2olSCgJlqI",
        "outputId": "06bedb3c-b64b-4cc0-c6c8-8b72c1f455b9"
      },
      "execution_count": null,
      "outputs": [
        {
          "output_type": "stream",
          "name": "stdout",
          "text": [
            "0\n",
            "1\n",
            "2\n",
            "3\n",
            "4\n",
            "5\n",
            "6\n",
            "7\n",
            "8\n",
            "9\n",
            "for loop ended\n"
          ]
        }
      ]
    },
    {
      "cell_type": "code",
      "source": [
        "for i in range(10):\n",
        "  print(i)\n",
        "  if i==8:\n",
        "    break\n",
        "else:\n",
        "  print(\"ended\")"
      ],
      "metadata": {
        "colab": {
          "base_uri": "https://localhost:8080/"
        },
        "id": "1JyGZJCrJ62R",
        "outputId": "4b43a344-8e4a-4982-978d-087e30e3031f"
      },
      "execution_count": null,
      "outputs": [
        {
          "output_type": "stream",
          "name": "stdout",
          "text": [
            "0\n",
            "1\n",
            "2\n",
            "3\n",
            "4\n",
            "5\n",
            "6\n",
            "7\n",
            "8\n"
          ]
        }
      ]
    },
    {
      "cell_type": "code",
      "source": [
        "i=0\n",
        "while i<3:\n",
        "  print(\"while loop no\",i)\n",
        "  i=i+1\n",
        "else:\n",
        "  print(\"while loop ended\")\n"
      ],
      "metadata": {
        "colab": {
          "base_uri": "https://localhost:8080/"
        },
        "id": "x-wYMy-jKXw8",
        "outputId": "4464f245-b4d6-416b-8927-48b55018449b"
      },
      "execution_count": null,
      "outputs": [
        {
          "output_type": "stream",
          "name": "stdout",
          "text": [
            "while loop no 0\n",
            "while loop no 1\n",
            "while loop no 2\n",
            "while loop ended\n"
          ]
        }
      ]
    },
    {
      "cell_type": "code",
      "source": [
        "a=int(input(\"enter no\"))\n",
        "for i in range(1,11):\n",
        "  print(a,\"x\",i,\"=\",a*i)"
      ],
      "metadata": {
        "colab": {
          "base_uri": "https://localhost:8080/"
        },
        "id": "x2o7-Ta0Kiwt",
        "outputId": "607ab59a-65ed-4653-e1ae-99b69f1ba949"
      },
      "execution_count": null,
      "outputs": [
        {
          "output_type": "stream",
          "name": "stdout",
          "text": [
            "enter no7\n",
            "7 x 1 = 7\n",
            "7 x 2 = 14\n",
            "7 x 3 = 21\n",
            "7 x 4 = 28\n",
            "7 x 5 = 35\n",
            "7 x 6 = 42\n",
            "7 x 7 = 49\n",
            "7 x 8 = 56\n",
            "7 x 9 = 63\n",
            "7 x 10 = 70\n"
          ]
        }
      ]
    },
    {
      "cell_type": "code",
      "source": [
        "a=int(input(\"enter no\"))\n",
        "i=0\n",
        "while i in range(0,10):\n",
        "  i=i+1\n",
        "  print(a,\"x\",i,\"=\",a*i)"
      ],
      "metadata": {
        "colab": {
          "base_uri": "https://localhost:8080/"
        },
        "id": "nPjZm9_oLoNb",
        "outputId": "1fb017ed-4f80-447d-90e3-96d88d67a25f"
      },
      "execution_count": null,
      "outputs": [
        {
          "output_type": "stream",
          "name": "stdout",
          "text": [
            "enter no6\n",
            "6 x 1 = 6\n",
            "6 x 2 = 12\n",
            "6 x 3 = 18\n",
            "6 x 4 = 24\n",
            "6 x 5 = 30\n",
            "6 x 6 = 36\n",
            "6 x 7 = 42\n",
            "6 x 8 = 48\n",
            "6 x 9 = 54\n",
            "6 x 10 = 60\n"
          ]
        }
      ]
    },
    {
      "cell_type": "markdown",
      "source": [
        "# New section"
      ],
      "metadata": {
        "id": "RqNLcua-M9Bk"
      }
    },
    {
      "cell_type": "markdown",
      "source": [
        "# New section"
      ],
      "metadata": {
        "id": "7M2EQlvTM-mt"
      }
    }
  ]
}